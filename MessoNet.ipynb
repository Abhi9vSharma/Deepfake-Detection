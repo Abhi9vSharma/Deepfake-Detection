{
 "cells": [
  {
   "cell_type": "code",
   "execution_count": 1,
   "id": "6187da0e",
   "metadata": {},
   "outputs": [
    {
     "name": "stdout",
     "output_type": "stream",
     "text": [
      "WARNING:tensorflow:From D:\\Anaconda3\\Lib\\site-packages\\keras\\src\\losses.py:2976: The name tf.losses.sparse_softmax_cross_entropy is deprecated. Please use tf.compat.v1.losses.sparse_softmax_cross_entropy instead.\n",
      "\n"
     ]
    }
   ],
   "source": [
    "import numpy as np\n",
    "from keras.preprocessing.image import ImageDataGenerator\n",
    "from keras.models import Sequential\n",
    "from keras.layers import Conv2D, MaxPooling2D, Flatten, Dense, Dropout\n"
   ]
  },
  {
   "cell_type": "code",
   "execution_count": 2,
   "id": "0a0b3c99",
   "metadata": {},
   "outputs": [],
   "source": [
    "def MesoNet(input_shape):\n",
    "    model = Sequential()\n",
    "    model.add(Conv2D(8, (3, 3), activation='relu', input_shape=input_shape))\n",
    "    model.add(Conv2D(8, (3, 3), activation='relu'))\n",
    "    model.add(MaxPooling2D(pool_size=(2, 2)))\n",
    "    model.add(Conv2D(16, (3, 3), activation='relu'))\n",
    "    model.add(Conv2D(16, (3, 3), activation='relu'))\n",
    "    model.add(MaxPooling2D(pool_size=(2, 2)))\n",
    "    model.add(Flatten())\n",
    "    model.add(Dense(64, activation='relu'))\n",
    "    model.add(Dropout(0.5))\n",
    "    model.add(Dense(1, activation='sigmoid'))\n",
    "\n",
    "    return model\n"
   ]
  },
  {
   "cell_type": "code",
   "execution_count": 3,
   "id": "4940f4e7",
   "metadata": {},
   "outputs": [
    {
     "name": "stdout",
     "output_type": "stream",
     "text": [
      "WARNING:tensorflow:From D:\\Anaconda3\\Lib\\site-packages\\keras\\src\\backend.py:873: The name tf.get_default_graph is deprecated. Please use tf.compat.v1.get_default_graph instead.\n",
      "\n",
      "WARNING:tensorflow:From D:\\Anaconda3\\Lib\\site-packages\\keras\\src\\layers\\pooling\\max_pooling2d.py:161: The name tf.nn.max_pool is deprecated. Please use tf.nn.max_pool2d instead.\n",
      "\n",
      "WARNING:tensorflow:From D:\\Anaconda3\\Lib\\site-packages\\keras\\src\\optimizers\\__init__.py:309: The name tf.train.Optimizer is deprecated. Please use tf.compat.v1.train.Optimizer instead.\n",
      "\n"
     ]
    }
   ],
   "source": [
    "# Define input shape (height, width, channels)\n",
    "input_shape = (224, 224, 3)\n",
    "\n",
    "# Instantiate the model\n",
    "model = MesoNet(input_shape)\n",
    "\n",
    "# Compile the model\n",
    "model.compile(optimizer='adam', loss='binary_crossentropy', metrics=['accuracy'])\n"
   ]
  },
  {
   "cell_type": "code",
   "execution_count": 5,
   "id": "74d2b877",
   "metadata": {},
   "outputs": [
    {
     "name": "stdout",
     "output_type": "stream",
     "text": [
      "Found 100000 images belonging to 2 classes.\n",
      "Found 20000 images belonging to 2 classes.\n",
      "Found 20000 images belonging to 2 classes.\n",
      "Epoch 1/10\n",
      "WARNING:tensorflow:From D:\\Anaconda3\\Lib\\site-packages\\keras\\src\\utils\\tf_utils.py:492: The name tf.ragged.RaggedTensorValue is deprecated. Please use tf.compat.v1.ragged.RaggedTensorValue instead.\n",
      "\n",
      "WARNING:tensorflow:From D:\\Anaconda3\\Lib\\site-packages\\keras\\src\\engine\\base_layer_utils.py:384: The name tf.executing_eagerly_outside_functions is deprecated. Please use tf.compat.v1.executing_eagerly_outside_functions instead.\n",
      "\n",
      "3125/3125 [==============================] - 7077s 2s/step - loss: 0.4635 - accuracy: 0.7774 - val_loss: 0.2792 - val_accuracy: 0.8864\n",
      "Epoch 2/10\n",
      "3125/3125 [==============================] - 5697s 2s/step - loss: 0.2623 - accuracy: 0.8935 - val_loss: 0.1974 - val_accuracy: 0.9211\n",
      "Epoch 3/10\n",
      "3125/3125 [==============================] - 3832s 1s/step - loss: 0.1829 - accuracy: 0.9272 - val_loss: 0.1668 - val_accuracy: 0.9355\n",
      "Epoch 4/10\n",
      "3125/3125 [==============================] - 6189s 2s/step - loss: 0.1403 - accuracy: 0.9452 - val_loss: 0.1604 - val_accuracy: 0.9405\n",
      "Epoch 5/10\n",
      "3125/3125 [==============================] - 2129s 681ms/step - loss: 0.1149 - accuracy: 0.9550 - val_loss: 0.1359 - val_accuracy: 0.9503\n",
      "Epoch 6/10\n",
      "3125/3125 [==============================] - 1934s 619ms/step - loss: 0.0968 - accuracy: 0.9620 - val_loss: 0.1330 - val_accuracy: 0.9533\n",
      "Epoch 7/10\n",
      "3125/3125 [==============================] - 1886s 604ms/step - loss: 0.0871 - accuracy: 0.9661 - val_loss: 0.1447 - val_accuracy: 0.9496\n",
      "Epoch 8/10\n",
      "3125/3125 [==============================] - 1897s 607ms/step - loss: 0.0778 - accuracy: 0.9695 - val_loss: 0.1375 - val_accuracy: 0.9552\n",
      "Epoch 9/10\n",
      "3125/3125 [==============================] - 1906s 610ms/step - loss: 0.0735 - accuracy: 0.9717 - val_loss: 0.1655 - val_accuracy: 0.9549\n",
      "Epoch 10/10\n",
      "3125/3125 [==============================] - 1906s 610ms/step - loss: 0.0698 - accuracy: 0.9729 - val_loss: 0.1432 - val_accuracy: 0.9582\n",
      "625/625 [==============================] - 248s 397ms/step - loss: 0.1481 - accuracy: 0.9559\n",
      "Test accuracy: 0.9558500051498413\n"
     ]
    }
   ],
   "source": [
    "# Define data generators for training, validation, and testing\n",
    "train_datagen = ImageDataGenerator(rescale=1./255)\n",
    "test_datagen = ImageDataGenerator(rescale=1./255)\n",
    "\n",
    "train_generator = train_datagen.flow_from_directory(\n",
    "        'D:\\\\Deepfake\\\\dataset\\\\real_vs_fake\\\\real-vs-fake\\\\train',\n",
    "        target_size=input_shape[:2],\n",
    "        batch_size=32,\n",
    "        class_mode='binary')\n",
    "\n",
    "validation_generator = test_datagen.flow_from_directory(\n",
    "        'D:\\\\Deepfake\\\\dataset\\\\real_vs_fake\\\\real-vs-fake\\\\valid',\n",
    "        target_size=input_shape[:2],\n",
    "        batch_size=32,\n",
    "        class_mode='binary')\n",
    "\n",
    "test_generator = test_datagen.flow_from_directory(\n",
    "        'D:\\\\Deepfake\\\\dataset\\\\real_vs_fake\\\\real-vs-fake\\\\test',\n",
    "        target_size=input_shape[:2],\n",
    "        batch_size=32,\n",
    "        class_mode='binary')\n",
    "\n",
    "# Train the model\n",
    "history = model.fit(\n",
    "        train_generator,\n",
    "        steps_per_epoch=len(train_generator),\n",
    "        epochs=10,\n",
    "        validation_data=validation_generator,\n",
    "        validation_steps=len(validation_generator))\n",
    "\n",
    "# Evaluate the model on test data\n",
    "test_loss, test_acc = model.evaluate(\n",
    "        test_generator,\n",
    "        steps=len(test_generator))\n",
    "print('Test accuracy:', test_acc)\n"
   ]
  },
  {
   "cell_type": "code",
   "execution_count": 6,
   "id": "9119bfb7",
   "metadata": {},
   "outputs": [],
   "source": [
    "import numpy as np\n",
    "from sklearn.metrics import classification_report, confusion_matrix\n",
    "import matplotlib.pyplot as plt"
   ]
  },
  {
   "cell_type": "code",
   "execution_count": 7,
   "id": "472e9886",
   "metadata": {},
   "outputs": [
    {
     "name": "stdout",
     "output_type": "stream",
     "text": [
      "625/625 [==============================] - 495s 790ms/step\n"
     ]
    }
   ],
   "source": [
    "# Generate predictions\n",
    "y_pred = model.predict(test_generator)\n",
    "y_pred = np.round(y_pred)\n"
   ]
  },
  {
   "cell_type": "code",
   "execution_count": 8,
   "id": "56b93f7e",
   "metadata": {},
   "outputs": [],
   "source": [
    "# Get true labels\n",
    "y_true = test_generator.classes"
   ]
  },
  {
   "cell_type": "code",
   "execution_count": 9,
   "id": "90aa91d5",
   "metadata": {},
   "outputs": [
    {
     "name": "stdout",
     "output_type": "stream",
     "text": [
      "              precision    recall  f1-score   support\n",
      "\n",
      "           0       0.50      0.50      0.50     10000\n",
      "           1       0.50      0.49      0.49     10000\n",
      "\n",
      "    accuracy                           0.50     20000\n",
      "   macro avg       0.50      0.50      0.50     20000\n",
      "weighted avg       0.50      0.50      0.50     20000\n",
      "\n"
     ]
    }
   ],
   "source": [
    "\n",
    "# Calculate precision, recall, F1-score, support\n",
    "report = classification_report(y_true, y_pred)\n",
    "print(report)"
   ]
  },
  {
   "cell_type": "code",
   "execution_count": 10,
   "id": "66028999",
   "metadata": {},
   "outputs": [
    {
     "data": {
      "image/png": "[encoded data removed]",
      "text/plain": [
       "<Figure size 800x600 with 2 Axes>"
      ]
     },
     "metadata": {},
     "output_type": "display_data"
    }
   ],
   "source": [
    "\n",
    "# Plot confusion matrix\n",
    "cm = confusion_matrix(y_true, y_pred)\n",
    "plt.figure(figsize=(8, 6))\n",
    "plt.imshow(cm, interpolation='nearest', cmap=plt.cm.Blues)\n",
    "plt.title('Confusion matrix')\n",
    "plt.colorbar()\n",
    "plt.xticks(np.arange(2), ['Real', 'Fake'])\n",
    "plt.yticks(np.arange(2), ['Real', 'Fake'])\n",
    "plt.xlabel('Predicted label')\n",
    "plt.ylabel('True label')\n",
    "\n",
    "for i in range(cm.shape[0]):\n",
    "    for j in range(cm.shape[1]):\n",
    "        plt.text(j, i, format(cm[i, j], 'd'),\n",
    "                 horizontalalignment=\"center\",\n",
    "                 color=\"white\" if cm[i, j] > cm.max() / 2. else \"black\")\n",
    "\n",
    "plt.tight_layout()\n",
    "plt.show()\n"
   ]
  },
  {
   "cell_type": "code",
   "execution_count": null,
   "id": "c06f32de",
   "metadata": {},
   "outputs": [],
   "source": []
  }
 ],
 "metadata": {
  "kernelspec": {
   "display_name": "Python 3 (ipykernel)",
   "language": "python",
   "name": "python3"
  },
  "language_info": {
   "codemirror_mode": {
    "name": "ipython",
    "version": 3
   },
   "file_extension": ".py",
   "mimetype": "text/x-python",
   "name": "python",
   "nbconvert_exporter": "python",
   "pygments_lexer": "ipython3",
   "version": "3.11.5"
  }
 },
 "nbformat": 4,
 "nbformat_minor": 5
}
